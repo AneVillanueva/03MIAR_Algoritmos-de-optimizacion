{
  "nbformat": 4,
  "nbformat_minor": 0,
  "metadata": {
    "colab": {
      "provenance": [],
      "authorship_tag": "ABX9TyNUd/2IrSi83PlRe0GT8fqI",
      "include_colab_link": true
    },
    "kernelspec": {
      "name": "python3",
      "display_name": "Python 3"
    },
    "language_info": {
      "name": "python"
    }
  },
  "cells": [
    {
      "cell_type": "markdown",
      "metadata": {
        "id": "view-in-github",
        "colab_type": "text"
      },
      "source": [
        "<a href=\"https://colab.research.google.com/github/AneVillanueva/03MIAR_Algoritmos-de-optimizacion/blob/main/Algoritmos_Ane_Villanueva_AG1.ipynb\" target=\"_parent\"><img src=\"https://colab.research.google.com/assets/colab-badge.svg\" alt=\"Open In Colab\"/></a>"
      ]
    },
    {
      "cell_type": "markdown",
      "source": [
        "# Actividad Guiada 1\n",
        "\n",
        "<font color=\"gray\">**Asignatura: Algoritmos de Optimización**\n",
        "\n",
        "<font color=\"darkcyan\">Alumna: Ane Villanueva Etxebarria\n",
        "\n",
        "Link repositorio GitHub: https://github.com/AneVillanueva/03MIAR_Algoritmos-de-optimizacion\n",
        "<br>\n",
        "<hr>\n",
        "\n"
      ],
      "metadata": {
        "id": "RNhJWl1J5-Rc"
      }
    },
    {
      "cell_type": "markdown",
      "source": [
        "### 1. Algoritmo divide y vencerás, con recursividad\n",
        "\n",
        "> <font color=\"gray\">Algoritmo que resuelve el Problema de las Torres de Hanói\n",
        "\n"
      ],
      "metadata": {
        "id": "ZPpmvC3e3guj"
      }
    },
    {
      "cell_type": "code",
      "execution_count": 2,
      "metadata": {
        "id": "8ecslKZ83ZzQ"
      },
      "outputs": [],
      "source": [
        "# Torres Hanoi\n",
        "def torres_hanoi(N, origen, destino, pivote):\n",
        "  if N==1:\n",
        "    print(f'Mover bloque desde {origen} a {destino}')\n",
        "    return\n",
        "  torres_hanoi(N-1, origen, pivote, destino)\n",
        "  print(f'Mover bloque desde {origen} a {destino}')\n",
        "  torres_hanoi(N-1, pivote, destino, origen)\n"
      ]
    },
    {
      "cell_type": "code",
      "source": [
        "torres_hanoi(4, 1, 3, 2)"
      ],
      "metadata": {
        "colab": {
          "base_uri": "https://localhost:8080/",
          "height": 0
        },
        "id": "HXRFVGjs7kgQ",
        "outputId": "4d0de5e7-3b3d-4c2c-efc2-d3db38a098f3"
      },
      "execution_count": 3,
      "outputs": [
        {
          "output_type": "stream",
          "name": "stdout",
          "text": [
            "Mover bloque desde 1 a 2\n",
            "Mover bloque desde 1 a 3\n",
            "Mover bloque desde 2 a 3\n",
            "Mover bloque desde 1 a 2\n",
            "Mover bloque desde 3 a 1\n",
            "Mover bloque desde 3 a 2\n",
            "Mover bloque desde 1 a 2\n",
            "Mover bloque desde 1 a 3\n",
            "Mover bloque desde 2 a 3\n",
            "Mover bloque desde 2 a 1\n",
            "Mover bloque desde 3 a 1\n",
            "Mover bloque desde 2 a 3\n",
            "Mover bloque desde 1 a 2\n",
            "Mover bloque desde 1 a 3\n",
            "Mover bloque desde 2 a 3\n"
          ]
        }
      ]
    },
    {
      "cell_type": "markdown",
      "source": [
        "### 2. Algoritmo voraz\n",
        "\n",
        "> <font color=\"gray\">Algoritmo que resuelve el problema asociado al cambio de monedas\n"
      ],
      "metadata": {
        "id": "ohcJmq_2By47"
      }
    },
    {
      "cell_type": "code",
      "source": [
        "# Devolver cambio > Suponemos que sistema está ordenado de mayor a menor\n",
        "def cambio_moneda(cantidad, sistema):\n",
        "  print('Sistema: ')\n",
        "  print(sistema)\n",
        "\n",
        "  solucion = [0 for i in range(len(sistema))]\n",
        "  valor_acumulado = 0\n",
        "  \n",
        "  for i in range(len(sistema)):\n",
        "    monedas = int((cantidad-valor_acumulado)/sistema[i])\n",
        "    solucion[i] = monedas\n",
        "    valor_acumulado += monedas*sistema[i]\n",
        "    if valor_acumulado == cantidad:\n",
        "      break\n",
        "  \n",
        "  return solucion    \n"
      ],
      "metadata": {
        "id": "aNQdYtseCh8S"
      },
      "execution_count": 4,
      "outputs": []
    },
    {
      "cell_type": "code",
      "source": [
        "sistema = [25, 10, 5, 1]\n",
        "cambio_moneda(54, sistema)"
      ],
      "metadata": {
        "colab": {
          "base_uri": "https://localhost:8080/",
          "height": 0
        },
        "id": "2mCJKjmoFlIK",
        "outputId": "f93bf74f-6fc7-4e22-c6f6-f1af9638197e"
      },
      "execution_count": 7,
      "outputs": [
        {
          "output_type": "stream",
          "name": "stdout",
          "text": [
            "Sistema: \n",
            "[25, 10, 5, 1]\n"
          ]
        },
        {
          "output_type": "execute_result",
          "data": {
            "text/plain": [
              "[2, 0, 0, 4]"
            ]
          },
          "metadata": {},
          "execution_count": 7
        }
      ]
    },
    {
      "cell_type": "markdown",
      "source": [
        "### 3. Práctica individual\n",
        "\n",
        "> <font color=\"gray\">Problema: Encontrar los dos puntos más cercanos\n",
        "\n"
      ],
      "metadata": {
        "id": "ANw32t9nIo00"
      }
    },
    {
      "cell_type": "code",
      "source": [
        "# De una lista de números, encontrar los dos números más cercanos\n",
        "# La distancia entre los dos puntos = norma de la resta entre los puntos\n",
        "# Calculo la norma mediante norm (en linalg de numpy)\n",
        "\n",
        "import numpy as np\n",
        "\n",
        "def puntos_mas_cercanos(puntos):\n",
        "    min_distancia = float('inf') # Inicializar la distancia en infinito\n",
        "    puntos_cercanos = []\n",
        "\n",
        "    for i in range(len(puntos)):\n",
        "        for j in range(i + 1, len(puntos)):\n",
        "            dist_puntos = np.linalg.norm(np.array(puntos[i]) - np.array(puntos[j]))\n",
        "            if dist_puntos < min_distancia:\n",
        "                min_distancia = dist_puntos\n",
        "                puntos_cercanos = [puntos[i], puntos[j]]\n",
        "\n",
        "    return puntos_cercanos\n"
      ],
      "metadata": {
        "id": "gvd9VuYqIwvR"
      },
      "execution_count": 10,
      "outputs": []
    },
    {
      "cell_type": "code",
      "source": [
        "import random\n",
        "\n",
        "lista_1D = [random.randrange(1,10000) for x in range(25)]\n",
        "print(lista_1D)\n",
        "\n",
        "lista_2D = [(random.randrange(1,10000), random.randrange(1,10000)) for x in range(25)]\n",
        "print(lista_2D)\n",
        "\n",
        "lista_3D = [(random.randrange(1,10000), random.randrange(1,10000), random.randrange(1,10000)) for x in range(25)]\n",
        "print(lista_3D)"
      ],
      "metadata": {
        "colab": {
          "base_uri": "https://localhost:8080/",
          "height": 0
        },
        "id": "hfjiNkB9Qelp",
        "outputId": "66eb1e1c-cd1b-4e61-eee1-acdf6949c3f9"
      },
      "execution_count": 11,
      "outputs": [
        {
          "output_type": "stream",
          "name": "stdout",
          "text": [
            "[9186, 6836, 4114, 2824, 4808, 2233, 7530, 6182, 4183, 6374, 2203, 3527, 6721, 5050, 6098, 4037, 4466, 168, 7528, 4578, 1313, 2638, 6365, 5370, 2051]\n",
            "[(942, 9222), (5303, 8171), (859, 3848), (7909, 1128), (2549, 9416), (5219, 4474), (8778, 8681), (4695, 3068), (6645, 1740), (7993, 6462), (6894, 3550), (7203, 1624), (2111, 6544), (9015, 9990), (9969, 2160), (4216, 6461), (5635, 8843), (2466, 2936), (6323, 5210), (2099, 9917), (9071, 4283), (5877, 8351), (3300, 9536), (5579, 3858), (3881, 405)]\n",
            "[(9572, 9095, 795), (4663, 8331, 708), (5360, 8854, 1521), (7769, 5788, 6598), (8431, 7199, 1530), (5203, 1107, 6518), (2271, 1367, 2407), (7880, 5911, 5681), (2889, 5667, 8243), (7786, 8827, 8641), (1724, 3144, 6561), (4647, 615, 8123), (2619, 9671, 8729), (4934, 9390, 8395), (1863, 5596, 2529), (9244, 9290, 3874), (8829, 63, 6117), (9162, 840, 2269), (7628, 2668, 7340), (2528, 9341, 9343), (3989, 2658, 1919), (6384, 8895, 2281), (2558, 413, 9537), (2, 149, 1757), (4778, 9652, 3270)]\n"
          ]
        }
      ]
    },
    {
      "cell_type": "markdown",
      "source": [
        "Aplicamos el algoritmo para 1D, 2D y 3D:"
      ],
      "metadata": {
        "id": "5IgGre_zRHYG"
      }
    },
    {
      "cell_type": "code",
      "source": [
        "# 1D\n",
        "puntos_mas_cercanos(lista_1D)"
      ],
      "metadata": {
        "colab": {
          "base_uri": "https://localhost:8080/",
          "height": 0
        },
        "id": "Y8sH5mcQRDw3",
        "outputId": "c2c13608-f734-42d3-f27f-db9a92164aa9"
      },
      "execution_count": 12,
      "outputs": [
        {
          "output_type": "execute_result",
          "data": {
            "text/plain": [
              "[7530, 7528]"
            ]
          },
          "metadata": {},
          "execution_count": 12
        }
      ]
    },
    {
      "cell_type": "code",
      "source": [
        "# 2D\n",
        "puntos_mas_cercanos(lista_2D)"
      ],
      "metadata": {
        "colab": {
          "base_uri": "https://localhost:8080/",
          "height": 0
        },
        "id": "Rwhvk9ayTI80",
        "outputId": "d1890140-4832-4f12-ff15-a52f7e071d2c"
      },
      "execution_count": 13,
      "outputs": [
        {
          "output_type": "execute_result",
          "data": {
            "text/plain": [
              "[(5635, 8843), (5877, 8351)]"
            ]
          },
          "metadata": {},
          "execution_count": 13
        }
      ]
    },
    {
      "cell_type": "code",
      "source": [
        "# 3D\n",
        "puntos_mas_cercanos(lista_3D)"
      ],
      "metadata": {
        "colab": {
          "base_uri": "https://localhost:8080/",
          "height": 0
        },
        "id": "BF16Fk-zTMHb",
        "outputId": "0421e600-d859-467d-d6e1-230a54b973f4"
      },
      "execution_count": 15,
      "outputs": [
        {
          "output_type": "execute_result",
          "data": {
            "text/plain": [
              "[(2619, 9671, 8729), (2528, 9341, 9343)]"
            ]
          },
          "metadata": {},
          "execution_count": 15
        }
      ]
    }
  ]
}