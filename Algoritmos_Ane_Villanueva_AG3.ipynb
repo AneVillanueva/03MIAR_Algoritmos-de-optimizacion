{
  "nbformat": 4,
  "nbformat_minor": 0,
  "metadata": {
    "colab": {
      "provenance": [],
      "include_colab_link": true
    },
    "kernelspec": {
      "name": "python3",
      "display_name": "Python 3"
    }
  },
  "cells": [
    {
      "cell_type": "markdown",
      "metadata": {
        "id": "view-in-github",
        "colab_type": "text"
      },
      "source": [
        "<a href=\"https://colab.research.google.com/github/AneVillanueva/03MIAR_Algoritmos-de-optimizacion/blob/main/Algoritmos_Ane_Villanueva_AG3.ipynb\" target=\"_parent\"><img src=\"https://colab.research.google.com/assets/colab-badge.svg\" alt=\"Open In Colab\"/></a>"
      ]
    },
    {
      "cell_type": "markdown",
      "source": [
        "# Actividad Guiada 3\n",
        "\n",
        "<font color=\"gray\">**Asignatura: Algoritmos de Optimización**\n",
        "\n",
        "<font color=\"darkcyan\">Alumna: Ane Villanueva Etxebarria\n",
        "\n",
        "Link repositorio GitHub: https://github.com/AneVillanueva/03MIAR_Algoritmos-de-optimizacion\n",
        "<br>\n",
        "<hr>"
      ],
      "metadata": {
        "id": "5C8eQ8FZJj2f"
      }
    },
    {
      "cell_type": "markdown",
      "source": [
        "#Carga de librerias"
      ],
      "metadata": {
        "id": "m-gbxt9BFfdN"
      }
    },
    {
      "cell_type": "code",
      "metadata": {
        "id": "qP-Y3Gkfc4vn",
        "colab": {
          "base_uri": "https://localhost:8080/"
        },
        "outputId": "96926198-c9b9-4488-9ab4-8d72633e0774"
      },
      "source": [
        "!pip install requests    #Hacer llamadas http a paginas de la red\n",
        "!pip install tsplib95    #Modulo para las instancias del problema del TSP"
      ],
      "execution_count": null,
      "outputs": [
        {
          "output_type": "stream",
          "name": "stdout",
          "text": [
            "Requirement already satisfied: requests in /usr/local/lib/python3.10/dist-packages (2.27.1)\n",
            "Requirement already satisfied: urllib3<1.27,>=1.21.1 in /usr/local/lib/python3.10/dist-packages (from requests) (1.26.16)\n",
            "Requirement already satisfied: certifi>=2017.4.17 in /usr/local/lib/python3.10/dist-packages (from requests) (2023.5.7)\n",
            "Requirement already satisfied: charset-normalizer~=2.0.0 in /usr/local/lib/python3.10/dist-packages (from requests) (2.0.12)\n",
            "Requirement already satisfied: idna<4,>=2.5 in /usr/local/lib/python3.10/dist-packages (from requests) (3.4)\n",
            "Collecting tsplib95\n",
            "  Downloading tsplib95-0.7.1-py2.py3-none-any.whl (25 kB)\n",
            "Requirement already satisfied: Click>=6.0 in /usr/local/lib/python3.10/dist-packages (from tsplib95) (8.1.3)\n",
            "Collecting Deprecated~=1.2.9 (from tsplib95)\n",
            "  Downloading Deprecated-1.2.14-py2.py3-none-any.whl (9.6 kB)\n",
            "Collecting networkx~=2.1 (from tsplib95)\n",
            "  Downloading networkx-2.8.8-py3-none-any.whl (2.0 MB)\n",
            "\u001b[2K     \u001b[90m━━━━━━━━━━━━━━━━━━━━━━━━━━━━━━━━━━━━━━━━\u001b[0m \u001b[32m2.0/2.0 MB\u001b[0m \u001b[31m53.8 MB/s\u001b[0m eta \u001b[36m0:00:00\u001b[0m\n",
            "\u001b[?25hRequirement already satisfied: tabulate~=0.8.7 in /usr/local/lib/python3.10/dist-packages (from tsplib95) (0.8.10)\n",
            "Requirement already satisfied: wrapt<2,>=1.10 in /usr/local/lib/python3.10/dist-packages (from Deprecated~=1.2.9->tsplib95) (1.14.1)\n",
            "Installing collected packages: networkx, Deprecated, tsplib95\n",
            "  Attempting uninstall: networkx\n",
            "    Found existing installation: networkx 3.1\n",
            "    Uninstalling networkx-3.1:\n",
            "      Successfully uninstalled networkx-3.1\n",
            "Successfully installed Deprecated-1.2.14 networkx-2.8.8 tsplib95-0.7.1\n"
          ]
        }
      ]
    },
    {
      "cell_type": "markdown",
      "source": [
        "#Carga de los datos del problema"
      ],
      "metadata": {
        "id": "nHRiJhTnFmuV"
      }
    },
    {
      "cell_type": "code",
      "metadata": {
        "id": "mnA47nhtdKOc"
      },
      "source": [
        "import urllib.request #Hacer llamadas http a paginas de la red\n",
        "import tsplib95       #Modulo para las instancias del problema del TSP\n",
        "import math           #Modulo de funciones matematicas. Se usa para exp\n",
        "import random         #Para generar valores aleatorios\n",
        "\n",
        "#Descargamos el fichero de datos (Matriz de distancias)\n",
        "file = \"swiss42.tsp\" ;\n",
        "urllib.request.urlretrieve(\"http://comopt.ifi.uni-heidelberg.de/software/TSPLIB95/tsp/swiss42.tsp.gz\", file + '.gz')\n",
        "!gzip -d swiss42.tsp.gz     #Descomprimir el fichero de datos\n",
        "\n"
      ],
      "execution_count": null,
      "outputs": []
    },
    {
      "cell_type": "code",
      "metadata": {
        "id": "RIXYkDWcfmwd"
      },
      "source": [
        "#Carga de datos y generación de objeto problem\n",
        "###############################################################################\n",
        "problem = tsplib95.load(file)\n",
        "\n",
        "#Nodos\n",
        "Nodos = list(problem.get_nodes())\n",
        "\n",
        "#Aristas\n",
        "Aristas = list(problem.get_edges())\n",
        "\n"
      ],
      "execution_count": null,
      "outputs": []
    },
    {
      "cell_type": "code",
      "metadata": {
        "id": "a7bTofSnn_Jt",
        "colab": {
          "base_uri": "https://localhost:8080/"
        },
        "outputId": "20bd2266-9434-45e5-ddcd-3cde6004df18"
      },
      "source": [
        "#Probamos algunas funciones del objeto problem\n",
        "\n",
        "#Distancia entre nodos\n",
        "problem.get_weight(0, 1) # Nos dice la distancia entre el nodo 0 y el nodo 1\n",
        "\n",
        "#Todas las funciones\n",
        "#Documentación: https://tsplib95.readthedocs.io/en/v0.6.1/modules.html\n",
        "\n",
        "#dir(problem)"
      ],
      "execution_count": null,
      "outputs": [
        {
          "output_type": "execute_result",
          "data": {
            "text/plain": [
              "15"
            ]
          },
          "metadata": {},
          "execution_count": 4
        }
      ]
    },
    {
      "cell_type": "markdown",
      "source": [
        "#Funcionas basicas\n"
      ],
      "metadata": {
        "id": "BpwtaRQIFYvO"
      }
    },
    {
      "cell_type": "code",
      "metadata": {
        "id": "tzrkaBS3gmmz"
      },
      "source": [
        "\n",
        "#Funcionas basicas\n",
        "###############################################################################\n",
        "\n",
        "#Se genera una solucion aleatoria con comienzo en en el nodo 0\n",
        "def crear_solucion(Nodos):\n",
        "  solucion = [Nodos[0]]\n",
        "  for n in Nodos[1:]:\n",
        "    solucion = solucion + [random.choice(list(set(Nodos) - set({Nodos[0]}) - set(solucion)))]\n",
        "  return solucion\n",
        "\n",
        "#Devuelve la distancia entre dos nodos\n",
        "def distancia(a,b, problem):\n",
        "  return problem.get_weight(a,b)\n",
        "\n",
        "#Devuelve la distancia total de una trayectoria/solucion\n",
        "def distancia_total(solucion, problem):\n",
        "  distancia_total = 0\n",
        "  for i in range(len(solucion)-1):\n",
        "    distancia_total += distancia(solucion[i] ,solucion[i+1] ,  problem)\n",
        "  return distancia_total + distancia(solucion[len(solucion)-1] ,solucion[0], problem)\n",
        "\n",
        "\n"
      ],
      "execution_count": null,
      "outputs": []
    },
    {
      "cell_type": "markdown",
      "source": [
        "#BUSQUEDA ALEATORIA"
      ],
      "metadata": {
        "id": "zfwRoUPDYVTr"
      }
    },
    {
      "cell_type": "code",
      "source": [
        "###############################################################################\n",
        "# BUSQUEDA ALEATORIA\n",
        "###############################################################################\n",
        "\n",
        "def busqueda_aleatoria(problem, N):\n",
        "  #N es el numero de iteraciones\n",
        "  Nodos = list(problem.get_nodes())\n",
        "\n",
        "  mejor_solucion = []\n",
        "  #mejor_distancia = 10e100                         #Inicializamos con un valor alto\n",
        "  mejor_distancia = float('inf')                    #Inicializamos con un valor alto\n",
        "\n",
        "  for i in range(N):                                #Criterio de parada: repetir N veces pero podemos incluir otros\n",
        "    solucion = crear_solucion(Nodos)                #Genera una solucion aleatoria\n",
        "    distancia = distancia_total(solucion, problem)  #Calcula el valor objetivo (distancia total)\n",
        "\n",
        "    if distancia < mejor_distancia:                 #Compara con la mejor obtenida hasta ahora\n",
        "      mejor_solucion = solucion\n",
        "      mejor_distancia = distancia\n",
        "\n",
        "\n",
        "  print(\"Mejor solución:\" , mejor_solucion)\n",
        "  print(\"Distancia     :\" , mejor_distancia)\n",
        "  return mejor_solucion\n",
        "\n",
        "\n",
        "#Busqueda aleatoria con 5000 iteraciones\n",
        "solucion = busqueda_aleatoria(problem, 10000)"
      ],
      "metadata": {
        "id": "U7FEJ5OHG2vl",
        "colab": {
          "base_uri": "https://localhost:8080/"
        },
        "outputId": "946e2a2e-8104-435f-d879-a3e477a8a18c"
      },
      "execution_count": null,
      "outputs": [
        {
          "output_type": "stream",
          "name": "stdout",
          "text": [
            "Mejor solución: [0, 11, 25, 21, 24, 9, 30, 22, 1, 41, 20, 38, 40, 23, 39, 8, 34, 6, 15, 16, 36, 31, 29, 3, 14, 35, 17, 37, 4, 28, 18, 10, 5, 19, 7, 27, 33, 32, 2, 26, 13, 12]\n",
            "Distancia     : 3378\n"
          ]
        }
      ]
    },
    {
      "cell_type": "markdown",
      "source": [
        "#BUSQUEDA LOCAL"
      ],
      "metadata": {
        "id": "gxyEjqm8YZIk"
      }
    },
    {
      "cell_type": "code",
      "source": [
        "###############################################################################\n",
        "# BUSQUEDA LOCAL\n",
        "###############################################################################\n",
        "def genera_vecina(solucion):\n",
        "  #Generador de soluciones vecinas: 2-opt (intercambiar 2 nodos) Si hay N nodos se generan (N-1)x(N-2)/2 soluciones\n",
        "  #Se puede modificar para aplicar otros generadores distintos que 2-opt\n",
        "  #print(solucion)\n",
        "  mejor_solucion = []\n",
        "  mejor_distancia = 10e100\n",
        "  for i in range(1,len(solucion)-1):          #Recorremos todos los nodos en bucle doble para evaluar todos los intercambios 2-opt\n",
        "    for j in range(i+1, len(solucion)):\n",
        "\n",
        "      #Se genera una nueva solución intercambiando los dos nodos i,j:\n",
        "      #  (usamos el operador + que para listas en python las concatena) : ej.: [1,2] + [3] = [1,2,3]\n",
        "      vecina = solucion[:i] + [solucion[j]] + solucion[i+1:j] + [solucion[i]] + solucion[j+1:]\n",
        "\n",
        "      #Se evalua la nueva solución ...\n",
        "      distancia_vecina = distancia_total(vecina, problem)\n",
        "\n",
        "      #... para guardarla si mejora las anteriores\n",
        "      if distancia_vecina <= mejor_distancia:\n",
        "        mejor_distancia = distancia_vecina\n",
        "        mejor_solucion = vecina\n",
        "  return mejor_solucion\n",
        "\n",
        "\n",
        "#solucion = [1, 47, 13, 41, 40, 19, 42, 44, 37, 5, 22, 28, 3, 2, 29, 21, 50, 34, 30, 9, 16, 11, 38, 49, 10, 39, 33, 45, 15, 24, 43, 26, 31, 36, 35, 20, 8, 7, 23, 48, 27, 12, 17, 4, 18, 25, 14, 6, 51, 46, 32]\n",
        "print(\"Distancia Solucion Incial:\" , distancia_total(solucion, problem))\n",
        "\n",
        "\n",
        "nueva_solucion = genera_vecina(solucion)\n",
        "print(\"Distancia Mejor Solucion Local:\", distancia_total(nueva_solucion, problem))\n"
      ],
      "metadata": {
        "colab": {
          "base_uri": "https://localhost:8080/"
        },
        "id": "sOo-N3yIX7bp",
        "outputId": "ab56cf99-357c-489c-bc46-cdf7c6de7206"
      },
      "execution_count": null,
      "outputs": [
        {
          "output_type": "stream",
          "name": "stdout",
          "text": [
            "Distancia Solucion Incial: 3378\n",
            "Distancia Mejor Solucion Local: 3089\n"
          ]
        }
      ]
    },
    {
      "cell_type": "code",
      "source": [
        "#Busqueda Local:\n",
        "#  - Sobre el operador de vecindad 2-opt(funcion genera_vecina)\n",
        "#  - Sin criterio de parada, se para cuando no es posible mejorar.\n",
        "def busqueda_local(problem):\n",
        "  mejor_solucion = []\n",
        "\n",
        "  #Generar una solucion inicial de referencia(aleatoria)\n",
        "  solucion_referencia = crear_solucion(Nodos)\n",
        "  mejor_distancia = distancia_total(solucion_referencia, problem)\n",
        "  print('Distancia de la solución inicial: ', mejor_distancia)\n",
        "  iteracion=0             #Un contador para saber las iteraciones que hacemos\n",
        "  while(1):\n",
        "    iteracion +=1         #Incrementamos el contador\n",
        "    #print('#',iteracion)\n",
        "\n",
        "    #Obtenemos la mejor vecina ...\n",
        "    vecina = genera_vecina(solucion_referencia)\n",
        "\n",
        "    #... y la evaluamos para ver si mejoramos respecto a lo encontrado hasta el momento\n",
        "    distancia_vecina = distancia_total(vecina, problem)\n",
        "\n",
        "    #Si no mejoramos hay que terminar. Hemos llegado a un minimo local(según nuestro operador de vecindad 2-opt)\n",
        "    if distancia_vecina < mejor_distancia:\n",
        "      #mejor_solucion = copy.deepcopy(vecina)   #Con copia profunda. Las copias en python son por referencia\n",
        "      mejor_solucion = vecina                   #Guarda la mejor solución encontrada\n",
        "      mejor_distancia = distancia_vecina\n",
        "\n",
        "    else:\n",
        "      print(\"En la iteracion \", iteracion, \", la mejor solución encontrada es:\" , mejor_solucion)\n",
        "      print(\"Distancia     :\" , mejor_distancia)\n",
        "      return mejor_solucion\n",
        "\n",
        "    solucion_referencia = vecina\n",
        "\n",
        "\n",
        "sol = busqueda_local(problem )"
      ],
      "metadata": {
        "colab": {
          "base_uri": "https://localhost:8080/"
        },
        "id": "2DKvldWcYOU9",
        "outputId": "3a3dc518-ef2f-45f1-8518-ea46015d4f44"
      },
      "execution_count": null,
      "outputs": [
        {
          "output_type": "stream",
          "name": "stdout",
          "text": [
            "Distancia de la solución inicial:  4760\n",
            "En la iteracion  33 , la mejor solución encontrada es: [0, 27, 3, 1, 7, 17, 37, 15, 16, 14, 6, 4, 2, 28, 34, 33, 20, 32, 19, 13, 5, 26, 18, 10, 8, 29, 30, 39, 21, 24, 40, 23, 12, 11, 25, 41, 9, 22, 38, 35, 36, 31]\n",
            "Distancia     : 1789\n"
          ]
        }
      ]
    },
    {
      "cell_type": "markdown",
      "source": [
        "#BUSQUEDA LOCAL - Propuesta de mejora\n",
        "\n",
        "> <font color=\"gray\"> Volver a comenzar con otras soluciones iniciales > **búsquedas multi-arranque**"
      ],
      "metadata": {
        "id": "3V7KXSpmmUHj"
      }
    },
    {
      "cell_type": "markdown",
      "source": [
        "En este caso, en vez de detener el algoritmo cuando la solución no mejora, se ha modificado el código para que trate de buscar mejores soluciones partiendo de una solución inicial diferente.\n",
        "\n",
        "Para ello, se ha establecido un tiempo máximo. Mientras este tiempo máximo no se supere, la función aplicará el algoritmo de búsqueda local proporcionado por el profesor, partiendo de diferentes soluciones iniciales, devolviendo la solución correspondiente en cada llamada. Finalmente, la mejora aplicada, devolverá la mejor solución de todas las que se hayan calculado.\n",
        "\n",
        "Para analizar la mejora del algoritmo, se han analizado los resultados obtenidos para diferentes tiempos: se han analizado los resultados obtenidos con 30 segundos, 1 minuto, 2 minutos y 5 minutos."
      ],
      "metadata": {
        "id": "PIaKCWHCqZ3X"
      }
    },
    {
      "cell_type": "code",
      "source": [
        "def busqueda_local_v1(problem):\n",
        "  mejor_solucion = []\n",
        "  solucion_referencia = crear_solucion(Nodos)\n",
        "  mejor_distancia = distancia_total(solucion_referencia, problem)\n",
        "\n",
        "  iteracion=0\n",
        "  while(1):\n",
        "    iteracion +=1\n",
        "\n",
        "    vecina = genera_vecina(solucion_referencia)\n",
        "    distancia_vecina = distancia_total(vecina, problem)\n",
        "\n",
        "    if distancia_vecina < mejor_distancia:\n",
        "      mejor_solucion = vecina\n",
        "      mejor_distancia = distancia_vecina\n",
        "      solucion_referencia = vecina\n",
        "\n",
        "    # Si no mejoramos, paramos\n",
        "    else:\n",
        "      return mejor_solucion"
      ],
      "metadata": {
        "id": "QEaYB1VirkuT"
      },
      "execution_count": null,
      "outputs": []
    },
    {
      "cell_type": "code",
      "source": [
        "import time\n",
        "\n",
        "def busqueda_local_mejora1(t_max):\n",
        "  start_time = time.time()\n",
        "  it = 0\n",
        "  mejor_distancia = float('inf')\n",
        "  while  (time.time() - start_time) < t_max:\n",
        "    it += 1\n",
        "    # Calculamos soluciones\n",
        "    sol = busqueda_local_v1(problem)\n",
        "    dist_sol = distancia_total(sol, problem)\n",
        "    if dist_sol < mejor_distancia:\n",
        "      mejor_solucion = sol\n",
        "      mejor_distancia = dist_sol\n",
        "\n",
        "  print('Iteraciones realizadas: ', it)\n",
        "  print('Mejor distancia obtenida: ', mejor_distancia)\n",
        "  print('Mejor solución: ', mejor_solucion)"
      ],
      "metadata": {
        "id": "46c6lz81wk9L"
      },
      "execution_count": null,
      "outputs": []
    },
    {
      "cell_type": "code",
      "source": [
        "# Solución en 30 segundos:\n",
        "busqueda_local_mejora1(30)"
      ],
      "metadata": {
        "colab": {
          "base_uri": "https://localhost:8080/"
        },
        "id": "nWBNJiZlzQ1K",
        "outputId": "8ddeb7c4-b2fd-4a85-e6f4-49c94d7d1b10"
      },
      "execution_count": null,
      "outputs": [
        {
          "output_type": "stream",
          "name": "stdout",
          "text": [
            "Iteraciones realizadas:  9\n",
            "Mejor distancia obtenida:  1582\n",
            "Mejor solución:  [0, 30, 38, 22, 2, 4, 6, 7, 15, 37, 17, 31, 32, 34, 33, 20, 35, 36, 16, 14, 19, 13, 5, 26, 18, 12, 11, 25, 10, 41, 23, 8, 9, 21, 40, 24, 39, 29, 28, 27, 3, 1]\n"
          ]
        }
      ]
    },
    {
      "cell_type": "code",
      "source": [
        "# Solución en 1 minuto:\n",
        "busqueda_local_mejora1(60)"
      ],
      "metadata": {
        "colab": {
          "base_uri": "https://localhost:8080/"
        },
        "id": "gLyWLOKk0L9P",
        "outputId": "6eef0528-1272-44c9-9c3e-93ca5197dc91"
      },
      "execution_count": null,
      "outputs": [
        {
          "output_type": "stream",
          "name": "stdout",
          "text": [
            "Iteraciones realizadas:  16\n",
            "Mejor distancia obtenida:  1533\n",
            "Mejor solución:  [0, 28, 29, 30, 38, 22, 9, 8, 41, 23, 21, 40, 24, 39, 10, 25, 11, 12, 18, 26, 4, 3, 2, 27, 32, 34, 33, 20, 31, 17, 7, 1, 6, 5, 13, 19, 14, 16, 15, 37, 36, 35]\n"
          ]
        }
      ]
    },
    {
      "cell_type": "code",
      "source": [
        "# Solución en 2 minutos:\n",
        "busqueda_local_mejora1(120)"
      ],
      "metadata": {
        "colab": {
          "base_uri": "https://localhost:8080/"
        },
        "id": "0ATzrDCs0PPx",
        "outputId": "644751d8-99bb-4ac1-9b73-c5c85f0eb9eb"
      },
      "execution_count": null,
      "outputs": [
        {
          "output_type": "stream",
          "name": "stdout",
          "text": [
            "Iteraciones realizadas:  36\n",
            "Mejor distancia obtenida:  1571\n",
            "Mejor solución:  [0, 27, 2, 3, 4, 1, 7, 17, 31, 36, 35, 32, 30, 10, 25, 11, 12, 18, 13, 19, 14, 16, 15, 37, 20, 33, 34, 38, 22, 39, 24, 40, 21, 9, 23, 41, 8, 29, 28, 26, 5, 6]\n"
          ]
        }
      ]
    },
    {
      "cell_type": "code",
      "source": [
        "# Solución en 5 minutos:\n",
        "busqueda_local_mejora1(300)"
      ],
      "metadata": {
        "colab": {
          "base_uri": "https://localhost:8080/"
        },
        "id": "W5SjKKMe1Ijv",
        "outputId": "46777dd0-8173-4c07-988e-aa4af3edfa5f"
      },
      "execution_count": null,
      "outputs": [
        {
          "output_type": "stream",
          "name": "stdout",
          "text": [
            "Iteraciones realizadas:  86\n",
            "Mejor distancia obtenida:  1465\n",
            "Mejor solución:  [0, 32, 31, 17, 36, 35, 20, 33, 34, 38, 22, 39, 24, 40, 21, 9, 23, 41, 10, 25, 11, 12, 18, 6, 4, 2, 28, 27, 3, 1, 7, 37, 15, 16, 14, 19, 13, 5, 26, 8, 29, 30]\n"
          ]
        }
      ]
    },
    {
      "cell_type": "code",
      "source": [
        "# Solución en 10 minutos:\n",
        "busqueda_local_mejora1(600)"
      ],
      "metadata": {
        "colab": {
          "base_uri": "https://localhost:8080/"
        },
        "id": "RZiYXoV-2eO4",
        "outputId": "1252a80d-48ba-4f17-e060-f393be163d9b"
      },
      "execution_count": null,
      "outputs": [
        {
          "output_type": "stream",
          "name": "stdout",
          "text": [
            "Iteraciones realizadas:  175\n",
            "Mejor distancia obtenida:  1508\n",
            "Mejor solución:  [0, 1, 6, 11, 25, 41, 40, 24, 21, 39, 22, 38, 30, 29, 9, 23, 8, 10, 12, 18, 26, 5, 14, 16, 15, 37, 17, 31, 36, 35, 20, 33, 34, 32, 28, 27, 2, 3, 4, 13, 19, 7]\n"
          ]
        }
      ]
    }
  ]
}